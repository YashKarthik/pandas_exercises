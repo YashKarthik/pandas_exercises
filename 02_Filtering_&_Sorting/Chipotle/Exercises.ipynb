{
 "cells": [
  {
   "cell_type": "markdown",
   "metadata": {},
   "source": [
    "# Ex1 - Filtering and Sorting Data"
   ]
  },
  {
   "cell_type": "markdown",
   "metadata": {},
   "source": [
    "This time we are going to pull data directly from the internet.\n",
    "Special thanks to: https://github.com/justmarkham for sharing the dataset and materials.\n",
    "\n",
    "### Step 1. Import the necessary libraries"
   ]
  },
  {
   "cell_type": "code",
   "execution_count": 1,
   "metadata": {
    "collapsed": false
   },
   "outputs": [],
   "source": [
    "import pandas as pd \n",
    "import numpy as np "
   ]
  },
  {
   "cell_type": "markdown",
   "metadata": {},
   "source": [
    "### Step 2. Import the dataset from this [address](https://raw.githubusercontent.com/justmarkham/DAT8/master/data/chipotle.tsv). "
   ]
  },
  {
   "cell_type": "markdown",
   "metadata": {},
   "source": [
    "### Step 3. Assign it to a variable called chipo."
   ]
  },
  {
   "cell_type": "code",
   "execution_count": 2,
   "metadata": {
    "collapsed": false
   },
   "outputs": [],
   "source": [
    "chipo = pd.read_csv('https://raw.githubusercontent.com/justmarkham/DAT8/master/data/chipotle.tsv', sep='\\t')"
   ]
  },
  {
   "cell_type": "code",
   "execution_count": 52,
   "metadata": {},
   "outputs": [
    {
     "output_type": "execute_result",
     "data": {
      "text/plain": "   order_id  quantity                              item_name  \\\n0         1         1           Chips and Fresh Tomato Salsa   \n1         1         1                                   Izze   \n2         1         1                       Nantucket Nectar   \n3         1         1  Chips and Tomatillo-Green Chili Salsa   \n4         2         2                           Chicken Bowl   \n\n                                  choice_description item_price  \\\n0                                                NaN     $2.39    \n1                                       [Clementine]     $3.39    \n2                                            [Apple]     $3.39    \n3                                                NaN     $2.39    \n4  [Tomatillo-Red Chili Salsa (Hot), [Black Beans...    $16.98    \n\n   cleaned_prices  \n0            2.39  \n1            3.39  \n2            3.39  \n3            2.39  \n4           16.98  ",
      "text/html": "<div>\n<style scoped>\n    .dataframe tbody tr th:only-of-type {\n        vertical-align: middle;\n    }\n\n    .dataframe tbody tr th {\n        vertical-align: top;\n    }\n\n    .dataframe thead th {\n        text-align: right;\n    }\n</style>\n<table border=\"1\" class=\"dataframe\">\n  <thead>\n    <tr style=\"text-align: right;\">\n      <th></th>\n      <th>order_id</th>\n      <th>quantity</th>\n      <th>item_name</th>\n      <th>choice_description</th>\n      <th>item_price</th>\n      <th>cleaned_prices</th>\n    </tr>\n  </thead>\n  <tbody>\n    <tr>\n      <td>0</td>\n      <td>1</td>\n      <td>1</td>\n      <td>Chips and Fresh Tomato Salsa</td>\n      <td>NaN</td>\n      <td>$2.39</td>\n      <td>2.39</td>\n    </tr>\n    <tr>\n      <td>1</td>\n      <td>1</td>\n      <td>1</td>\n      <td>Izze</td>\n      <td>[Clementine]</td>\n      <td>$3.39</td>\n      <td>3.39</td>\n    </tr>\n    <tr>\n      <td>2</td>\n      <td>1</td>\n      <td>1</td>\n      <td>Nantucket Nectar</td>\n      <td>[Apple]</td>\n      <td>$3.39</td>\n      <td>3.39</td>\n    </tr>\n    <tr>\n      <td>3</td>\n      <td>1</td>\n      <td>1</td>\n      <td>Chips and Tomatillo-Green Chili Salsa</td>\n      <td>NaN</td>\n      <td>$2.39</td>\n      <td>2.39</td>\n    </tr>\n    <tr>\n      <td>4</td>\n      <td>2</td>\n      <td>2</td>\n      <td>Chicken Bowl</td>\n      <td>[Tomatillo-Red Chili Salsa (Hot), [Black Beans...</td>\n      <td>$16.98</td>\n      <td>16.98</td>\n    </tr>\n  </tbody>\n</table>\n</div>"
     },
     "metadata": {},
     "execution_count": 52
    }
   ],
   "source": [
    "chipo.head()"
   ]
  },
  {
   "cell_type": "markdown",
   "metadata": {},
   "source": [
    "### Step 4. How many products cost more than $10.00?"
   ]
  },
  {
   "cell_type": "code",
   "execution_count": 72,
   "metadata": {},
   "outputs": [
    {
     "output_type": "execute_result",
     "data": {
      "text/plain": "97"
     },
     "metadata": {},
     "execution_count": 72
    }
   ],
   "source": [
    "sum(chipo_singles['cleaned_prices']>10)"
   ]
  },
  {
   "cell_type": "code",
   "execution_count": 134,
   "metadata": {
    "collapsed": false
   },
   "outputs": [
    {
     "output_type": "execute_result",
     "data": {
      "text/plain": "25"
     },
     "metadata": {},
     "execution_count": 134
    }
   ],
   "source": [
    "price_sort = lambda price: float(price[1:])\n",
    "\n",
    "chipo['cleaned_prices'] = chipo.item_price.apply(price_sort)\n",
    "chipo_singles = chipo.drop_duplicates(['item_name', 'choice_description', 'quantity'])\n",
    "\n",
    "chipo_singles = chipo_singles[chipo_singles['quantity']==1]\n",
    "(chipo_singles[chipo_singles['cleaned_prices']>10]).item_name.nunique()"
   ]
  },
  {
   "cell_type": "markdown",
   "metadata": {},
   "source": [
    "### Step 5. What is the price of each item? \n",
    "###### print a data frame with only two columns item_name and item_price"
   ]
  },
  {
   "cell_type": "code",
   "execution_count": 84,
   "metadata": {},
   "outputs": [
    {
     "output_type": "execute_result",
     "data": {
      "text/plain": "     item_price                              item_name\n0        $2.39            Chips and Fresh Tomato Salsa\n1        $3.39                                    Izze\n2        $3.39                        Nantucket Nectar\n3        $2.39   Chips and Tomatillo-Green Chili Salsa\n4       $16.98                            Chicken Bowl\n...         ...                                    ...\n4237     $8.50                     Chips and Guacamole\n4354    $18.50                        Steak Soft Tacos\n4489    $17.80                     Chips and Guacamole\n4509     $1.99                                   Chips\n4510    $11.49                           Barbacoa Bowl\n\n[209 rows x 2 columns]",
      "text/html": "<div>\n<style scoped>\n    .dataframe tbody tr th:only-of-type {\n        vertical-align: middle;\n    }\n\n    .dataframe tbody tr th {\n        vertical-align: top;\n    }\n\n    .dataframe thead th {\n        text-align: right;\n    }\n</style>\n<table border=\"1\" class=\"dataframe\">\n  <thead>\n    <tr style=\"text-align: right;\">\n      <th></th>\n      <th>item_price</th>\n      <th>item_name</th>\n    </tr>\n  </thead>\n  <tbody>\n    <tr>\n      <td>0</td>\n      <td>$2.39</td>\n      <td>Chips and Fresh Tomato Salsa</td>\n    </tr>\n    <tr>\n      <td>1</td>\n      <td>$3.39</td>\n      <td>Izze</td>\n    </tr>\n    <tr>\n      <td>2</td>\n      <td>$3.39</td>\n      <td>Nantucket Nectar</td>\n    </tr>\n    <tr>\n      <td>3</td>\n      <td>$2.39</td>\n      <td>Chips and Tomatillo-Green Chili Salsa</td>\n    </tr>\n    <tr>\n      <td>4</td>\n      <td>$16.98</td>\n      <td>Chicken Bowl</td>\n    </tr>\n    <tr>\n      <td>...</td>\n      <td>...</td>\n      <td>...</td>\n    </tr>\n    <tr>\n      <td>4237</td>\n      <td>$8.50</td>\n      <td>Chips and Guacamole</td>\n    </tr>\n    <tr>\n      <td>4354</td>\n      <td>$18.50</td>\n      <td>Steak Soft Tacos</td>\n    </tr>\n    <tr>\n      <td>4489</td>\n      <td>$17.80</td>\n      <td>Chips and Guacamole</td>\n    </tr>\n    <tr>\n      <td>4509</td>\n      <td>$1.99</td>\n      <td>Chips</td>\n    </tr>\n    <tr>\n      <td>4510</td>\n      <td>$11.49</td>\n      <td>Barbacoa Bowl</td>\n    </tr>\n  </tbody>\n</table>\n<p>209 rows × 2 columns</p>\n</div>"
     },
     "metadata": {},
     "execution_count": 84
    }
   ],
   "source": [
    "chipo_singles"
   ]
  },
  {
   "cell_type": "code",
   "execution_count": 94,
   "metadata": {
    "collapsed": false
   },
   "outputs": [
    {
     "output_type": "execute_result",
     "data": {
      "text/plain": "                                  item_name item_price\n0              Chips and Fresh Tomato Salsa     $2.39 \n1                                      Izze     $3.39 \n2                          Nantucket Nectar     $3.39 \n3     Chips and Tomatillo-Green Chili Salsa     $2.39 \n5                              Chicken Bowl    $10.98 \n6                             Side of Chips     $1.69 \n7                             Steak Burrito    $11.75 \n8                          Steak Soft Tacos     $9.25 \n10                      Chips and Guacamole     $4.45 \n11                     Chicken Crispy Tacos     $8.75 \n12                       Chicken Soft Tacos     $8.75 \n16                          Chicken Burrito     $8.49 \n21                         Barbacoa Burrito     $8.99 \n27                         Carnitas Burrito     $8.99 \n28                              Canned Soda     $1.09 \n33                            Carnitas Bowl     $8.99 \n34                            Bottled Water     $1.09 \n38    Chips and Tomatillo Green Chili Salsa     $2.95 \n39                            Barbacoa Bowl    $11.75 \n40                                    Chips     $2.15 \n44                       Chicken Salad Bowl     $8.75 \n54                               Steak Bowl     $8.99 \n56                      Barbacoa Soft Tacos     $9.25 \n57                           Veggie Burrito    $11.25 \n62                              Veggie Bowl    $11.25 \n92                       Steak Crispy Tacos     $9.25 \n111     Chips and Tomatillo Red Chili Salsa     $2.95 \n168                   Barbacoa Crispy Tacos    $11.75 \n186                       Veggie Salad Bowl    $11.25 \n191      Chips and Roasted Chili-Corn Salsa     $2.39 \n233      Chips and Roasted Chili Corn Salsa     $2.95 \n237                     Carnitas Soft Tacos     $9.25 \n250                           Chicken Salad    $10.98 \n263                       Canned Soft Drink     $1.25 \n298                       6 Pack Soft Drink     $6.49 \n300     Chips and Tomatillo-Red Chili Salsa     $2.39 \n510                                 Burrito     $7.40 \n520                            Crispy Tacos     $7.40 \n554                   Carnitas Crispy Tacos     $9.25 \n606                        Steak Salad Bowl    $11.89 \n664                             Steak Salad     $8.99 \n673                                    Bowl     $7.40 \n674       Chips and Mild Fresh Tomato Salsa     $3.00 \n738                       Veggie Soft Tacos    $11.25 \n1132                    Carnitas Salad Bowl    $11.89 \n1229                    Barbacoa Salad Bowl    $11.89 \n1414                                  Salad     $7.40 \n1653                    Veggie Crispy Tacos     $8.49 \n1694                           Veggie Salad     $8.49 \n3750                         Carnitas Salad     $8.99 ",
      "text/html": "<div>\n<style scoped>\n    .dataframe tbody tr th:only-of-type {\n        vertical-align: middle;\n    }\n\n    .dataframe tbody tr th {\n        vertical-align: top;\n    }\n\n    .dataframe thead th {\n        text-align: right;\n    }\n</style>\n<table border=\"1\" class=\"dataframe\">\n  <thead>\n    <tr style=\"text-align: right;\">\n      <th></th>\n      <th>item_name</th>\n      <th>item_price</th>\n    </tr>\n  </thead>\n  <tbody>\n    <tr>\n      <td>0</td>\n      <td>Chips and Fresh Tomato Salsa</td>\n      <td>$2.39</td>\n    </tr>\n    <tr>\n      <td>1</td>\n      <td>Izze</td>\n      <td>$3.39</td>\n    </tr>\n    <tr>\n      <td>2</td>\n      <td>Nantucket Nectar</td>\n      <td>$3.39</td>\n    </tr>\n    <tr>\n      <td>3</td>\n      <td>Chips and Tomatillo-Green Chili Salsa</td>\n      <td>$2.39</td>\n    </tr>\n    <tr>\n      <td>5</td>\n      <td>Chicken Bowl</td>\n      <td>$10.98</td>\n    </tr>\n    <tr>\n      <td>6</td>\n      <td>Side of Chips</td>\n      <td>$1.69</td>\n    </tr>\n    <tr>\n      <td>7</td>\n      <td>Steak Burrito</td>\n      <td>$11.75</td>\n    </tr>\n    <tr>\n      <td>8</td>\n      <td>Steak Soft Tacos</td>\n      <td>$9.25</td>\n    </tr>\n    <tr>\n      <td>10</td>\n      <td>Chips and Guacamole</td>\n      <td>$4.45</td>\n    </tr>\n    <tr>\n      <td>11</td>\n      <td>Chicken Crispy Tacos</td>\n      <td>$8.75</td>\n    </tr>\n    <tr>\n      <td>12</td>\n      <td>Chicken Soft Tacos</td>\n      <td>$8.75</td>\n    </tr>\n    <tr>\n      <td>16</td>\n      <td>Chicken Burrito</td>\n      <td>$8.49</td>\n    </tr>\n    <tr>\n      <td>21</td>\n      <td>Barbacoa Burrito</td>\n      <td>$8.99</td>\n    </tr>\n    <tr>\n      <td>27</td>\n      <td>Carnitas Burrito</td>\n      <td>$8.99</td>\n    </tr>\n    <tr>\n      <td>28</td>\n      <td>Canned Soda</td>\n      <td>$1.09</td>\n    </tr>\n    <tr>\n      <td>33</td>\n      <td>Carnitas Bowl</td>\n      <td>$8.99</td>\n    </tr>\n    <tr>\n      <td>34</td>\n      <td>Bottled Water</td>\n      <td>$1.09</td>\n    </tr>\n    <tr>\n      <td>38</td>\n      <td>Chips and Tomatillo Green Chili Salsa</td>\n      <td>$2.95</td>\n    </tr>\n    <tr>\n      <td>39</td>\n      <td>Barbacoa Bowl</td>\n      <td>$11.75</td>\n    </tr>\n    <tr>\n      <td>40</td>\n      <td>Chips</td>\n      <td>$2.15</td>\n    </tr>\n    <tr>\n      <td>44</td>\n      <td>Chicken Salad Bowl</td>\n      <td>$8.75</td>\n    </tr>\n    <tr>\n      <td>54</td>\n      <td>Steak Bowl</td>\n      <td>$8.99</td>\n    </tr>\n    <tr>\n      <td>56</td>\n      <td>Barbacoa Soft Tacos</td>\n      <td>$9.25</td>\n    </tr>\n    <tr>\n      <td>57</td>\n      <td>Veggie Burrito</td>\n      <td>$11.25</td>\n    </tr>\n    <tr>\n      <td>62</td>\n      <td>Veggie Bowl</td>\n      <td>$11.25</td>\n    </tr>\n    <tr>\n      <td>92</td>\n      <td>Steak Crispy Tacos</td>\n      <td>$9.25</td>\n    </tr>\n    <tr>\n      <td>111</td>\n      <td>Chips and Tomatillo Red Chili Salsa</td>\n      <td>$2.95</td>\n    </tr>\n    <tr>\n      <td>168</td>\n      <td>Barbacoa Crispy Tacos</td>\n      <td>$11.75</td>\n    </tr>\n    <tr>\n      <td>186</td>\n      <td>Veggie Salad Bowl</td>\n      <td>$11.25</td>\n    </tr>\n    <tr>\n      <td>191</td>\n      <td>Chips and Roasted Chili-Corn Salsa</td>\n      <td>$2.39</td>\n    </tr>\n    <tr>\n      <td>233</td>\n      <td>Chips and Roasted Chili Corn Salsa</td>\n      <td>$2.95</td>\n    </tr>\n    <tr>\n      <td>237</td>\n      <td>Carnitas Soft Tacos</td>\n      <td>$9.25</td>\n    </tr>\n    <tr>\n      <td>250</td>\n      <td>Chicken Salad</td>\n      <td>$10.98</td>\n    </tr>\n    <tr>\n      <td>263</td>\n      <td>Canned Soft Drink</td>\n      <td>$1.25</td>\n    </tr>\n    <tr>\n      <td>298</td>\n      <td>6 Pack Soft Drink</td>\n      <td>$6.49</td>\n    </tr>\n    <tr>\n      <td>300</td>\n      <td>Chips and Tomatillo-Red Chili Salsa</td>\n      <td>$2.39</td>\n    </tr>\n    <tr>\n      <td>510</td>\n      <td>Burrito</td>\n      <td>$7.40</td>\n    </tr>\n    <tr>\n      <td>520</td>\n      <td>Crispy Tacos</td>\n      <td>$7.40</td>\n    </tr>\n    <tr>\n      <td>554</td>\n      <td>Carnitas Crispy Tacos</td>\n      <td>$9.25</td>\n    </tr>\n    <tr>\n      <td>606</td>\n      <td>Steak Salad Bowl</td>\n      <td>$11.89</td>\n    </tr>\n    <tr>\n      <td>664</td>\n      <td>Steak Salad</td>\n      <td>$8.99</td>\n    </tr>\n    <tr>\n      <td>673</td>\n      <td>Bowl</td>\n      <td>$7.40</td>\n    </tr>\n    <tr>\n      <td>674</td>\n      <td>Chips and Mild Fresh Tomato Salsa</td>\n      <td>$3.00</td>\n    </tr>\n    <tr>\n      <td>738</td>\n      <td>Veggie Soft Tacos</td>\n      <td>$11.25</td>\n    </tr>\n    <tr>\n      <td>1132</td>\n      <td>Carnitas Salad Bowl</td>\n      <td>$11.89</td>\n    </tr>\n    <tr>\n      <td>1229</td>\n      <td>Barbacoa Salad Bowl</td>\n      <td>$11.89</td>\n    </tr>\n    <tr>\n      <td>1414</td>\n      <td>Salad</td>\n      <td>$7.40</td>\n    </tr>\n    <tr>\n      <td>1653</td>\n      <td>Veggie Crispy Tacos</td>\n      <td>$8.49</td>\n    </tr>\n    <tr>\n      <td>1694</td>\n      <td>Veggie Salad</td>\n      <td>$8.49</td>\n    </tr>\n    <tr>\n      <td>3750</td>\n      <td>Carnitas Salad</td>\n      <td>$8.99</td>\n    </tr>\n  </tbody>\n</table>\n</div>"
     },
     "metadata": {},
     "execution_count": 94
    }
   ],
   "source": [
    "chipo_singles = chipo.drop_duplicates(['item_name', 'quantity'])\n",
    "chipo_singles = chipo_singles[chipo['quantity']==1]\n",
    "\n",
    "chipo_singles[['item_name', 'item_price']]"
   ]
  },
  {
   "cell_type": "markdown",
   "metadata": {},
   "source": [
    "### Step 6. Sort by the name of the item"
   ]
  },
  {
   "cell_type": "code",
   "execution_count": 95,
   "metadata": {
    "collapsed": false
   },
   "outputs": [
    {
     "output_type": "execute_result",
     "data": {
      "text/plain": "      order_id  quantity          item_name  \\\n3389      1360         2  6 Pack Soft Drink   \n341        148         1  6 Pack Soft Drink   \n1849       749         1  6 Pack Soft Drink   \n1860       754         1  6 Pack Soft Drink   \n2713      1076         1  6 Pack Soft Drink   \n...        ...       ...                ...   \n2384       948         1  Veggie Soft Tacos   \n781        322         1  Veggie Soft Tacos   \n2851      1132         1  Veggie Soft Tacos   \n1699       688         1  Veggie Soft Tacos   \n1395       567         1  Veggie Soft Tacos   \n\n                                     choice_description item_price  \\\n3389                                        [Diet Coke]    $12.98    \n341                                         [Diet Coke]     $6.49    \n1849                                             [Coke]     $6.49    \n1860                                        [Diet Coke]     $6.49    \n2713                                             [Coke]     $6.49    \n...                                                 ...        ...   \n2384  [Roasted Chili Corn Salsa, [Fajita Vegetables,...     $8.75    \n781   [Fresh Tomato Salsa, [Black Beans, Cheese, Sou...     $8.75    \n2851  [Roasted Chili Corn Salsa (Medium), [Black Bea...     $8.49    \n1699  [Fresh Tomato Salsa, [Fajita Vegetables, Rice,...    $11.25    \n1395  [Fresh Tomato Salsa (Mild), [Pinto Beans, Rice...     $8.49    \n\n      cleaned_prices  \n3389           12.98  \n341             6.49  \n1849            6.49  \n1860            6.49  \n2713            6.49  \n...              ...  \n2384            8.75  \n781             8.75  \n2851            8.49  \n1699           11.25  \n1395            8.49  \n\n[4622 rows x 6 columns]",
      "text/html": "<div>\n<style scoped>\n    .dataframe tbody tr th:only-of-type {\n        vertical-align: middle;\n    }\n\n    .dataframe tbody tr th {\n        vertical-align: top;\n    }\n\n    .dataframe thead th {\n        text-align: right;\n    }\n</style>\n<table border=\"1\" class=\"dataframe\">\n  <thead>\n    <tr style=\"text-align: right;\">\n      <th></th>\n      <th>order_id</th>\n      <th>quantity</th>\n      <th>item_name</th>\n      <th>choice_description</th>\n      <th>item_price</th>\n      <th>cleaned_prices</th>\n    </tr>\n  </thead>\n  <tbody>\n    <tr>\n      <td>3389</td>\n      <td>1360</td>\n      <td>2</td>\n      <td>6 Pack Soft Drink</td>\n      <td>[Diet Coke]</td>\n      <td>$12.98</td>\n      <td>12.98</td>\n    </tr>\n    <tr>\n      <td>341</td>\n      <td>148</td>\n      <td>1</td>\n      <td>6 Pack Soft Drink</td>\n      <td>[Diet Coke]</td>\n      <td>$6.49</td>\n      <td>6.49</td>\n    </tr>\n    <tr>\n      <td>1849</td>\n      <td>749</td>\n      <td>1</td>\n      <td>6 Pack Soft Drink</td>\n      <td>[Coke]</td>\n      <td>$6.49</td>\n      <td>6.49</td>\n    </tr>\n    <tr>\n      <td>1860</td>\n      <td>754</td>\n      <td>1</td>\n      <td>6 Pack Soft Drink</td>\n      <td>[Diet Coke]</td>\n      <td>$6.49</td>\n      <td>6.49</td>\n    </tr>\n    <tr>\n      <td>2713</td>\n      <td>1076</td>\n      <td>1</td>\n      <td>6 Pack Soft Drink</td>\n      <td>[Coke]</td>\n      <td>$6.49</td>\n      <td>6.49</td>\n    </tr>\n    <tr>\n      <td>...</td>\n      <td>...</td>\n      <td>...</td>\n      <td>...</td>\n      <td>...</td>\n      <td>...</td>\n      <td>...</td>\n    </tr>\n    <tr>\n      <td>2384</td>\n      <td>948</td>\n      <td>1</td>\n      <td>Veggie Soft Tacos</td>\n      <td>[Roasted Chili Corn Salsa, [Fajita Vegetables,...</td>\n      <td>$8.75</td>\n      <td>8.75</td>\n    </tr>\n    <tr>\n      <td>781</td>\n      <td>322</td>\n      <td>1</td>\n      <td>Veggie Soft Tacos</td>\n      <td>[Fresh Tomato Salsa, [Black Beans, Cheese, Sou...</td>\n      <td>$8.75</td>\n      <td>8.75</td>\n    </tr>\n    <tr>\n      <td>2851</td>\n      <td>1132</td>\n      <td>1</td>\n      <td>Veggie Soft Tacos</td>\n      <td>[Roasted Chili Corn Salsa (Medium), [Black Bea...</td>\n      <td>$8.49</td>\n      <td>8.49</td>\n    </tr>\n    <tr>\n      <td>1699</td>\n      <td>688</td>\n      <td>1</td>\n      <td>Veggie Soft Tacos</td>\n      <td>[Fresh Tomato Salsa, [Fajita Vegetables, Rice,...</td>\n      <td>$11.25</td>\n      <td>11.25</td>\n    </tr>\n    <tr>\n      <td>1395</td>\n      <td>567</td>\n      <td>1</td>\n      <td>Veggie Soft Tacos</td>\n      <td>[Fresh Tomato Salsa (Mild), [Pinto Beans, Rice...</td>\n      <td>$8.49</td>\n      <td>8.49</td>\n    </tr>\n  </tbody>\n</table>\n<p>4622 rows × 6 columns</p>\n</div>"
     },
     "metadata": {},
     "execution_count": 95
    }
   ],
   "source": [
    "chipo.sort_values('item_name')"
   ]
  },
  {
   "cell_type": "markdown",
   "metadata": {},
   "source": [
    "### Step 7. What was the quantity of the most expensive item ordered?"
   ]
  },
  {
   "cell_type": "code",
   "execution_count": 98,
   "metadata": {
    "collapsed": false
   },
   "outputs": [
    {
     "output_type": "execute_result",
     "data": {
      "text/plain": "      order_id  quantity                     item_name choice_description  \\\n3598      1443        15  Chips and Fresh Tomato Salsa                NaN   \n\n     item_price  cleaned_prices  \n3598    $44.25            44.25  ",
      "text/html": "<div>\n<style scoped>\n    .dataframe tbody tr th:only-of-type {\n        vertical-align: middle;\n    }\n\n    .dataframe tbody tr th {\n        vertical-align: top;\n    }\n\n    .dataframe thead th {\n        text-align: right;\n    }\n</style>\n<table border=\"1\" class=\"dataframe\">\n  <thead>\n    <tr style=\"text-align: right;\">\n      <th></th>\n      <th>order_id</th>\n      <th>quantity</th>\n      <th>item_name</th>\n      <th>choice_description</th>\n      <th>item_price</th>\n      <th>cleaned_prices</th>\n    </tr>\n  </thead>\n  <tbody>\n    <tr>\n      <td>3598</td>\n      <td>1443</td>\n      <td>15</td>\n      <td>Chips and Fresh Tomato Salsa</td>\n      <td>NaN</td>\n      <td>$44.25</td>\n      <td>44.25</td>\n    </tr>\n  </tbody>\n</table>\n</div>"
     },
     "metadata": {},
     "execution_count": 98
    }
   ],
   "source": [
    "chipo[chipo['cleaned_prices']==max(chipo['cleaned_prices'])]"
   ]
  },
  {
   "cell_type": "markdown",
   "metadata": {},
   "source": [
    "### Step 8. How many times was a Veggie Salad Bowl ordered?"
   ]
  },
  {
   "cell_type": "code",
   "execution_count": 99,
   "metadata": {},
   "outputs": [
    {
     "output_type": "execute_result",
     "data": {
      "text/plain": "   order_id  quantity                              item_name  \\\n0         1         1           Chips and Fresh Tomato Salsa   \n1         1         1                                   Izze   \n2         1         1                       Nantucket Nectar   \n3         1         1  Chips and Tomatillo-Green Chili Salsa   \n4         2         2                           Chicken Bowl   \n\n                                  choice_description item_price  \\\n0                                                NaN     $2.39    \n1                                       [Clementine]     $3.39    \n2                                            [Apple]     $3.39    \n3                                                NaN     $2.39    \n4  [Tomatillo-Red Chili Salsa (Hot), [Black Beans...    $16.98    \n\n   cleaned_prices  \n0            2.39  \n1            3.39  \n2            3.39  \n3            2.39  \n4           16.98  ",
      "text/html": "<div>\n<style scoped>\n    .dataframe tbody tr th:only-of-type {\n        vertical-align: middle;\n    }\n\n    .dataframe tbody tr th {\n        vertical-align: top;\n    }\n\n    .dataframe thead th {\n        text-align: right;\n    }\n</style>\n<table border=\"1\" class=\"dataframe\">\n  <thead>\n    <tr style=\"text-align: right;\">\n      <th></th>\n      <th>order_id</th>\n      <th>quantity</th>\n      <th>item_name</th>\n      <th>choice_description</th>\n      <th>item_price</th>\n      <th>cleaned_prices</th>\n    </tr>\n  </thead>\n  <tbody>\n    <tr>\n      <td>0</td>\n      <td>1</td>\n      <td>1</td>\n      <td>Chips and Fresh Tomato Salsa</td>\n      <td>NaN</td>\n      <td>$2.39</td>\n      <td>2.39</td>\n    </tr>\n    <tr>\n      <td>1</td>\n      <td>1</td>\n      <td>1</td>\n      <td>Izze</td>\n      <td>[Clementine]</td>\n      <td>$3.39</td>\n      <td>3.39</td>\n    </tr>\n    <tr>\n      <td>2</td>\n      <td>1</td>\n      <td>1</td>\n      <td>Nantucket Nectar</td>\n      <td>[Apple]</td>\n      <td>$3.39</td>\n      <td>3.39</td>\n    </tr>\n    <tr>\n      <td>3</td>\n      <td>1</td>\n      <td>1</td>\n      <td>Chips and Tomatillo-Green Chili Salsa</td>\n      <td>NaN</td>\n      <td>$2.39</td>\n      <td>2.39</td>\n    </tr>\n    <tr>\n      <td>4</td>\n      <td>2</td>\n      <td>2</td>\n      <td>Chicken Bowl</td>\n      <td>[Tomatillo-Red Chili Salsa (Hot), [Black Beans...</td>\n      <td>$16.98</td>\n      <td>16.98</td>\n    </tr>\n  </tbody>\n</table>\n</div>"
     },
     "metadata": {},
     "execution_count": 99
    }
   ],
   "source": [
    "chipo.head()"
   ]
  },
  {
   "cell_type": "code",
   "execution_count": 102,
   "metadata": {
    "collapsed": false
   },
   "outputs": [
    {
     "output_type": "execute_result",
     "data": {
      "text/plain": "18"
     },
     "metadata": {},
     "execution_count": 102
    }
   ],
   "source": [
    "sum(chipo[chipo['item_name']=='Veggie Salad Bowl'].quantity)"
   ]
  },
  {
   "cell_type": "markdown",
   "metadata": {},
   "source": [
    "### Step 9. How many times did someone order more than one Canned Soda?"
   ]
  },
  {
   "cell_type": "code",
   "execution_count": 110,
   "metadata": {
    "collapsed": false
   },
   "outputs": [
    {
     "output_type": "execute_result",
     "data": {
      "text/plain": "20"
     },
     "metadata": {},
     "execution_count": 110
    }
   ],
   "source": [
    "sum(chipo[chipo['item_name']=='Canned Soda'].quantity >1)"
   ]
  },
  {
   "cell_type": "code",
   "execution_count": null,
   "metadata": {},
   "outputs": [],
   "source": []
  }
 ],
 "metadata": {
  "kernelspec": {
   "display_name": "Python 3",
   "language": "python",
   "name": "python3"
  },
  "language_info": {
   "codemirror_mode": {
    "name": "ipython",
    "version": 2
   },
   "file_extension": ".py",
   "mimetype": "text/x-python",
   "name": "python",
   "nbconvert_exporter": "python",
   "pygments_lexer": "ipython2",
   "version": "3.7.4-final"
  }
 },
 "nbformat": 4,
 "nbformat_minor": 0
}